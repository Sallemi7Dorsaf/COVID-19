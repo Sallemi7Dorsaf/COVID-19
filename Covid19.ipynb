{
  "nbformat": 4,
  "nbformat_minor": 0,
  "metadata": {
    "colab": {
      "name": "Covid19.ipynb",
      "provenance": [],
      "collapsed_sections": [],
      "include_colab_link": true
    },
    "kernelspec": {
      "name": "python3",
      "display_name": "Python 3"
    }
  },
  "cells": [
    {
      "cell_type": "markdown",
      "metadata": {
        "id": "view-in-github",
        "colab_type": "text"
      },
      "source": [
        "<a href=\"https://colab.research.google.com/github/Sallemi7Dorsaf/COVID-19/blob/master/Covid19.ipynb\" target=\"_parent\"><img src=\"https://colab.research.google.com/assets/colab-badge.svg\" alt=\"Open In Colab\"/></a>"
      ]
    },
    {
      "cell_type": "code",
      "metadata": {
        "id": "wZ5ZA6bWjC_3",
        "colab_type": "code",
        "outputId": "2a5657a9-31d2-425e-e6a1-9bf618270558",
        "colab": {
          "base_uri": "https://localhost:8080/",
          "height": 34
        }
      },
      "source": [
        "!pip install --upgrade -q pygsheets"
      ],
      "execution_count": 0,
      "outputs": [
        {
          "output_type": "stream",
          "text": [
            "\u001b[?25l\r\u001b[K     |███▏                            | 10kB 24.5MB/s eta 0:00:01\r\u001b[K     |██████▎                         | 20kB 1.8MB/s eta 0:00:01\r\u001b[K     |█████████▌                      | 30kB 2.4MB/s eta 0:00:01\r\u001b[K     |████████████▋                   | 40kB 1.7MB/s eta 0:00:01\r\u001b[K     |███████████████▉                | 51kB 1.9MB/s eta 0:00:01\r\u001b[K     |███████████████████             | 61kB 2.2MB/s eta 0:00:01\r\u001b[K     |██████████████████████▏         | 71kB 2.4MB/s eta 0:00:01\r\u001b[K     |█████████████████████████▎      | 81kB 2.6MB/s eta 0:00:01\r\u001b[K     |████████████████████████████▌   | 92kB 2.9MB/s eta 0:00:01\r\u001b[K     |███████████████████████████████▋| 102kB 2.8MB/s eta 0:00:01\r\u001b[K     |████████████████████████████████| 112kB 2.8MB/s \n",
            "\u001b[?25h"
          ],
          "name": "stdout"
        }
      ]
    },
    {
      "cell_type": "code",
      "metadata": {
        "id": "903N8CKmL1OQ",
        "colab_type": "code",
        "colab": {}
      },
      "source": [
        "import google.auth\n",
        "from google.colab import auth\n",
        "auth.authenticate_user()\n",
        "import pygsheets\n",
        "import pandas as pd\n",
        "import numpy as np\n",
        "import seaborn as sns\n",
        "import matplotlib.pyplot as plt\n",
        "credentials, _ = google.auth.default()\n",
        "gc = pygsheets.client.Client(credentials)"
      ],
      "execution_count": 0,
      "outputs": []
    },
    {
      "cell_type": "code",
      "metadata": {
        "id": "wuRNjiGECccF",
        "colab_type": "code",
        "colab": {}
      },
      "source": [
        "def plotbar(datList,labelList,title):\n",
        "  posList = range(len(datList))\n",
        "  plt.figure(figsize=(16, 6))\n",
        "  plt.bar(posList,datList)\n",
        "  plt.title(title)\n",
        "  plt.xticks(posList, labelList,rotation='vertical')\n",
        "  plt.grid()\n",
        "  plt.show()"
      ],
      "execution_count": 0,
      "outputs": []
    },
    {
      "cell_type": "code",
      "metadata": {
        "id": "JFYGsLNf7Yvo",
        "colab_type": "code",
        "colab": {}
      },
      "source": [
        "sheet = gc.open_by_url('https://docs.google.com/spreadsheets/d/1Ojyifha6IqBKb1SIvst-4pEyJbAXFUJee6iHmxS9B1I/edit?usp=sharing')\n",
        "dat = sheet.sheet1.get_as_df()\n",
        "dat = dat[['summary','country','death','symptom']]\n",
        "odat = dat.copy()\n",
        "odat['age'] = dat['summary'].str.extract(r'( \\d+,)')\n",
        "odat['age'] = odat['age'].str.extract(r'(\\d+)').astype('float')\n",
        "odat['gender'] = dat['summary'].str.extract(r'(male|female)')\n",
        "odat['death'] = odat['death'] == 1\n",
        "odat = odat.dropna()"
      ],
      "execution_count": 0,
      "outputs": []
    },
    {
      "cell_type": "markdown",
      "metadata": {
        "colab_type": "text",
        "id": "FgXZ4SKppDTU"
      },
      "source": [
        "# 1. Age analysis"
      ]
    },
    {
      "cell_type": "code",
      "metadata": {
        "id": "JHmYdiBy3bKD",
        "colab_type": "code",
        "outputId": "44f9cfc2-0d5a-48f1-bb7e-cab196045b87",
        "colab": {
          "base_uri": "https://localhost:8080/",
          "height": 504
        }
      },
      "source": [
        "odat['agegroup'] = 'agegroup'\n",
        "ageDic = {}\n",
        "ageDic['1-10'] = (1,10)\n",
        "ageDic['10-20'] = (10,20)\n",
        "ageDic['20-30'] = (20,30)\n",
        "ageDic['30-40'] = (30,40)\n",
        "ageDic['40-50'] = (40,50)\n",
        "ageDic['50-60'] = (50,60)\n",
        "ageDic['60-70'] = (60,70)\n",
        "ageDic['70+'] = (70,120)\n",
        "for k in ageDic.keys():\n",
        "  lb,ub = ageDic[k]\n",
        "  odat['agegroup'][(odat['age']>=lb) & (odat['age']<ub)] = k\n",
        "odat"
      ],
      "execution_count": 0,
      "outputs": [
        {
          "output_type": "stream",
          "text": [
            "/usr/local/lib/python3.6/dist-packages/ipykernel_launcher.py:13: SettingWithCopyWarning: \n",
            "A value is trying to be set on a copy of a slice from a DataFrame\n",
            "\n",
            "See the caveats in the documentation: http://pandas.pydata.org/pandas-docs/stable/user_guide/indexing.html#returning-a-view-versus-a-copy\n",
            "  del sys.path[0]\n"
          ],
          "name": "stderr"
        },
        {
          "output_type": "execute_result",
          "data": {
            "text/html": [
              "<div>\n",
              "<style scoped>\n",
              "    .dataframe tbody tr th:only-of-type {\n",
              "        vertical-align: middle;\n",
              "    }\n",
              "\n",
              "    .dataframe tbody tr th {\n",
              "        vertical-align: top;\n",
              "    }\n",
              "\n",
              "    .dataframe thead th {\n",
              "        text-align: right;\n",
              "    }\n",
              "</style>\n",
              "<table border=\"1\" class=\"dataframe\">\n",
              "  <thead>\n",
              "    <tr style=\"text-align: right;\">\n",
              "      <th></th>\n",
              "      <th>summary</th>\n",
              "      <th>country</th>\n",
              "      <th>death</th>\n",
              "      <th>symptom</th>\n",
              "      <th>age</th>\n",
              "      <th>gender</th>\n",
              "      <th>agegroup</th>\n",
              "    </tr>\n",
              "  </thead>\n",
              "  <tbody>\n",
              "    <tr>\n",
              "      <th>0</th>\n",
              "      <td>First confirmed imported COVID-19 pneumonia pa...</td>\n",
              "      <td>China</td>\n",
              "      <td>False</td>\n",
              "      <td></td>\n",
              "      <td>66.0</td>\n",
              "      <td>male</td>\n",
              "      <td>60-70</td>\n",
              "    </tr>\n",
              "    <tr>\n",
              "      <th>1</th>\n",
              "      <td>First confirmed imported COVID-19 pneumonia pa...</td>\n",
              "      <td>China</td>\n",
              "      <td>False</td>\n",
              "      <td></td>\n",
              "      <td>56.0</td>\n",
              "      <td>female</td>\n",
              "      <td>50-60</td>\n",
              "    </tr>\n",
              "    <tr>\n",
              "      <th>2</th>\n",
              "      <td>First confirmed imported cases in Zhejiang: pa...</td>\n",
              "      <td>China</td>\n",
              "      <td>False</td>\n",
              "      <td></td>\n",
              "      <td>46.0</td>\n",
              "      <td>male</td>\n",
              "      <td>40-50</td>\n",
              "    </tr>\n",
              "    <tr>\n",
              "      <th>3</th>\n",
              "      <td>new confirmed imported COVID-19 pneumonia in T...</td>\n",
              "      <td>China</td>\n",
              "      <td>False</td>\n",
              "      <td></td>\n",
              "      <td>60.0</td>\n",
              "      <td>female</td>\n",
              "      <td>60-70</td>\n",
              "    </tr>\n",
              "    <tr>\n",
              "      <th>4</th>\n",
              "      <td>new confirmed imported COVID-19 pneumonia in T...</td>\n",
              "      <td>China</td>\n",
              "      <td>False</td>\n",
              "      <td></td>\n",
              "      <td>58.0</td>\n",
              "      <td>male</td>\n",
              "      <td>50-60</td>\n",
              "    </tr>\n",
              "    <tr>\n",
              "      <th>...</th>\n",
              "      <td>...</td>\n",
              "      <td>...</td>\n",
              "      <td>...</td>\n",
              "      <td>...</td>\n",
              "      <td>...</td>\n",
              "      <td>...</td>\n",
              "      <td>...</td>\n",
              "    </tr>\n",
              "    <tr>\n",
              "      <th>3387</th>\n",
              "      <td>new COVID-19 patient confirmed in Switzerland:...</td>\n",
              "      <td>Switzerland</td>\n",
              "      <td>False</td>\n",
              "      <td></td>\n",
              "      <td>70.0</td>\n",
              "      <td>male</td>\n",
              "      <td>70+</td>\n",
              "    </tr>\n",
              "    <tr>\n",
              "      <th>3392</th>\n",
              "      <td>new COVID-19 patient confirmed in Switzerland:...</td>\n",
              "      <td>Switzerland</td>\n",
              "      <td>False</td>\n",
              "      <td></td>\n",
              "      <td>26.0</td>\n",
              "      <td>male</td>\n",
              "      <td>20-30</td>\n",
              "    </tr>\n",
              "    <tr>\n",
              "      <th>3393</th>\n",
              "      <td>new COVID-19 patient confirmed in Switzerland:...</td>\n",
              "      <td>Switzerland</td>\n",
              "      <td>False</td>\n",
              "      <td></td>\n",
              "      <td>30.0</td>\n",
              "      <td>female</td>\n",
              "      <td>30-40</td>\n",
              "    </tr>\n",
              "    <tr>\n",
              "      <th>3394</th>\n",
              "      <td>new COVID-19 patient confirmed in Switzerland:...</td>\n",
              "      <td>Switzerland</td>\n",
              "      <td>False</td>\n",
              "      <td></td>\n",
              "      <td>49.0</td>\n",
              "      <td>male</td>\n",
              "      <td>40-50</td>\n",
              "    </tr>\n",
              "    <tr>\n",
              "      <th>3396</th>\n",
              "      <td>new COVID-19 patient confirmed in Switzerland:...</td>\n",
              "      <td>Switzerland</td>\n",
              "      <td>False</td>\n",
              "      <td></td>\n",
              "      <td>23.0</td>\n",
              "      <td>male</td>\n",
              "      <td>20-30</td>\n",
              "    </tr>\n",
              "  </tbody>\n",
              "</table>\n",
              "<p>721 rows × 7 columns</p>\n",
              "</div>"
            ],
            "text/plain": [
              "                                                summary  ... agegroup\n",
              "0     First confirmed imported COVID-19 pneumonia pa...  ...    60-70\n",
              "1     First confirmed imported COVID-19 pneumonia pa...  ...    50-60\n",
              "2     First confirmed imported cases in Zhejiang: pa...  ...    40-50\n",
              "3     new confirmed imported COVID-19 pneumonia in T...  ...    60-70\n",
              "4     new confirmed imported COVID-19 pneumonia in T...  ...    50-60\n",
              "...                                                 ...  ...      ...\n",
              "3387  new COVID-19 patient confirmed in Switzerland:...  ...      70+\n",
              "3392  new COVID-19 patient confirmed in Switzerland:...  ...    20-30\n",
              "3393  new COVID-19 patient confirmed in Switzerland:...  ...    30-40\n",
              "3394  new COVID-19 patient confirmed in Switzerland:...  ...    40-50\n",
              "3396  new COVID-19 patient confirmed in Switzerland:...  ...    20-30\n",
              "\n",
              "[721 rows x 7 columns]"
            ]
          },
          "metadata": {
            "tags": []
          },
          "execution_count": 47
        }
      ]
    },
    {
      "cell_type": "code",
      "metadata": {
        "id": "ySwuZTI4yKcs",
        "colab_type": "code",
        "outputId": "c6816e20-0f62-4b2a-d8fb-97243d95d586",
        "colab": {
          "base_uri": "https://localhost:8080/",
          "height": 328
        }
      },
      "source": [
        "agestat = odat.groupby('agegroup').count()[['age']]\n",
        "agestat['ageratio'] = agestat['age']/sum(agestat['age'])*100\n",
        "agestat\n"
      ],
      "execution_count": 0,
      "outputs": [
        {
          "output_type": "execute_result",
          "data": {
            "text/html": [
              "<div>\n",
              "<style scoped>\n",
              "    .dataframe tbody tr th:only-of-type {\n",
              "        vertical-align: middle;\n",
              "    }\n",
              "\n",
              "    .dataframe tbody tr th {\n",
              "        vertical-align: top;\n",
              "    }\n",
              "\n",
              "    .dataframe thead th {\n",
              "        text-align: right;\n",
              "    }\n",
              "</style>\n",
              "<table border=\"1\" class=\"dataframe\">\n",
              "  <thead>\n",
              "    <tr style=\"text-align: right;\">\n",
              "      <th></th>\n",
              "      <th>age</th>\n",
              "      <th>ageratio</th>\n",
              "    </tr>\n",
              "    <tr>\n",
              "      <th>agegroup</th>\n",
              "      <th></th>\n",
              "      <th></th>\n",
              "    </tr>\n",
              "  </thead>\n",
              "  <tbody>\n",
              "    <tr>\n",
              "      <th>1-10</th>\n",
              "      <td>12</td>\n",
              "      <td>1.664355</td>\n",
              "    </tr>\n",
              "    <tr>\n",
              "      <th>10-20</th>\n",
              "      <td>26</td>\n",
              "      <td>3.606103</td>\n",
              "    </tr>\n",
              "    <tr>\n",
              "      <th>20-30</th>\n",
              "      <td>92</td>\n",
              "      <td>12.760055</td>\n",
              "    </tr>\n",
              "    <tr>\n",
              "      <th>30-40</th>\n",
              "      <td>127</td>\n",
              "      <td>17.614424</td>\n",
              "    </tr>\n",
              "    <tr>\n",
              "      <th>40-50</th>\n",
              "      <td>114</td>\n",
              "      <td>15.811373</td>\n",
              "    </tr>\n",
              "    <tr>\n",
              "      <th>50-60</th>\n",
              "      <td>148</td>\n",
              "      <td>20.527046</td>\n",
              "    </tr>\n",
              "    <tr>\n",
              "      <th>60-70</th>\n",
              "      <td>107</td>\n",
              "      <td>14.840499</td>\n",
              "    </tr>\n",
              "    <tr>\n",
              "      <th>70+</th>\n",
              "      <td>95</td>\n",
              "      <td>13.176144</td>\n",
              "    </tr>\n",
              "  </tbody>\n",
              "</table>\n",
              "</div>"
            ],
            "text/plain": [
              "          age   ageratio\n",
              "agegroup                \n",
              "1-10       12   1.664355\n",
              "10-20      26   3.606103\n",
              "20-30      92  12.760055\n",
              "30-40     127  17.614424\n",
              "40-50     114  15.811373\n",
              "50-60     148  20.527046\n",
              "60-70     107  14.840499\n",
              "70+        95  13.176144"
            ]
          },
          "metadata": {
            "tags": []
          },
          "execution_count": 48
        }
      ]
    },
    {
      "cell_type": "code",
      "metadata": {
        "id": "f_hMQX8h-Bhv",
        "colab_type": "code",
        "outputId": "9c8e2d72-b98c-4a7c-d272-42e813964695",
        "colab": {
          "base_uri": "https://localhost:8080/",
          "height": 409
        }
      },
      "source": [
        "plotbar(agestat['ageratio'].values,agestat.index.values,'age confirmed case (%)')"
      ],
      "execution_count": 0,
      "outputs": [
        {
          "output_type": "display_data",
          "data": {
            "image/png": "[encoded data removed]",
            "text/plain": [
              "<Figure size 1152x432 with 1 Axes>"
            ]
          },
          "metadata": {
            "tags": []
          }
        }
      ]
    },
    {
      "cell_type": "code",
      "metadata": {
        "id": "hUo-MxsimhW2",
        "colab_type": "code",
        "outputId": "f9e03eda-a2b1-465f-dc09-536119006d31",
        "colab": {
          "base_uri": "https://localhost:8080/",
          "height": 297
        }
      },
      "source": [
        "drDic = {}\n",
        "for k in ageDic.keys():\n",
        "  adat = odat[odat['agegroup']==k]\n",
        "  drDic[k] = (sum(adat['death']),len(adat['death']),sum(adat['death'])/len(adat['death'])*100)\n",
        "#drDic.values()\n",
        "drFrame = pd.DataFrame(data=drDic.values(),columns=['death-count','confirmed-count','death-ratio'])\n",
        "drFrame.index = drDic.keys()\n",
        "drFrame"
      ],
      "execution_count": 0,
      "outputs": [
        {
          "output_type": "execute_result",
          "data": {
            "text/html": [
              "<div>\n",
              "<style scoped>\n",
              "    .dataframe tbody tr th:only-of-type {\n",
              "        vertical-align: middle;\n",
              "    }\n",
              "\n",
              "    .dataframe tbody tr th {\n",
              "        vertical-align: top;\n",
              "    }\n",
              "\n",
              "    .dataframe thead th {\n",
              "        text-align: right;\n",
              "    }\n",
              "</style>\n",
              "<table border=\"1\" class=\"dataframe\">\n",
              "  <thead>\n",
              "    <tr style=\"text-align: right;\">\n",
              "      <th></th>\n",
              "      <th>death-count</th>\n",
              "      <th>confirmed-count</th>\n",
              "      <th>death-ratio</th>\n",
              "    </tr>\n",
              "  </thead>\n",
              "  <tbody>\n",
              "    <tr>\n",
              "      <th>1-10</th>\n",
              "      <td>0</td>\n",
              "      <td>12</td>\n",
              "      <td>0.000000</td>\n",
              "    </tr>\n",
              "    <tr>\n",
              "      <th>10-20</th>\n",
              "      <td>0</td>\n",
              "      <td>26</td>\n",
              "      <td>0.000000</td>\n",
              "    </tr>\n",
              "    <tr>\n",
              "      <th>20-30</th>\n",
              "      <td>0</td>\n",
              "      <td>92</td>\n",
              "      <td>0.000000</td>\n",
              "    </tr>\n",
              "    <tr>\n",
              "      <th>30-40</th>\n",
              "      <td>2</td>\n",
              "      <td>127</td>\n",
              "      <td>1.574803</td>\n",
              "    </tr>\n",
              "    <tr>\n",
              "      <th>40-50</th>\n",
              "      <td>1</td>\n",
              "      <td>114</td>\n",
              "      <td>0.877193</td>\n",
              "    </tr>\n",
              "    <tr>\n",
              "      <th>50-60</th>\n",
              "      <td>4</td>\n",
              "      <td>148</td>\n",
              "      <td>2.702703</td>\n",
              "    </tr>\n",
              "    <tr>\n",
              "      <th>60-70</th>\n",
              "      <td>12</td>\n",
              "      <td>107</td>\n",
              "      <td>11.214953</td>\n",
              "    </tr>\n",
              "    <tr>\n",
              "      <th>70+</th>\n",
              "      <td>22</td>\n",
              "      <td>95</td>\n",
              "      <td>23.157895</td>\n",
              "    </tr>\n",
              "  </tbody>\n",
              "</table>\n",
              "</div>"
            ],
            "text/plain": [
              "       death-count  confirmed-count  death-ratio\n",
              "1-10             0               12     0.000000\n",
              "10-20            0               26     0.000000\n",
              "20-30            0               92     0.000000\n",
              "30-40            2              127     1.574803\n",
              "40-50            1              114     0.877193\n",
              "50-60            4              148     2.702703\n",
              "60-70           12              107    11.214953\n",
              "70+             22               95    23.157895"
            ]
          },
          "metadata": {
            "tags": []
          },
          "execution_count": 50
        }
      ]
    },
    {
      "cell_type": "code",
      "metadata": {
        "id": "MJZjvZ8I_VI3",
        "colab_type": "code",
        "outputId": "fd06078e-5b45-4bf9-be87-12dc44a1490a",
        "colab": {
          "base_uri": "https://localhost:8080/",
          "height": 409
        }
      },
      "source": [
        "plotbar(drFrame['death-ratio'],list(drFrame.index),'Death/Confirmed ratio (%)')"
      ],
      "execution_count": 0,
      "outputs": [
        {
          "output_type": "display_data",
          "data": {
            "image/png": "[encoded data removed]",
            "text/plain": [
              "<Figure size 1152x432 with 1 Axes>"
            ]
          },
          "metadata": {
            "tags": []
          }
        }
      ]
    },
    {
      "cell_type": "markdown",
      "metadata": {
        "id": "LH7lxJRfDxG3",
        "colab_type": "text"
      },
      "source": [
        "# 2. Gender analysis"
      ]
    },
    {
      "cell_type": "code",
      "metadata": {
        "id": "lTKe42WzEBe9",
        "colab_type": "code",
        "outputId": "6b6ac12f-db2f-4ce4-a353-59a48909f610",
        "colab": {
          "base_uri": "https://localhost:8080/",
          "height": 85
        }
      },
      "source": [
        "gdat = odat[['death','gender']]\n",
        "gc = gdat.groupby(by='gender').count()\n",
        "gd = gdat.groupby(by='gender').sum()\n",
        "gender_dratio = gd['death']/gc['death']\n",
        "gender_dratio"
      ],
      "execution_count": 0,
      "outputs": [
        {
          "output_type": "execute_result",
          "data": {
            "text/plain": [
              "gender\n",
              "female    0.039088\n",
              "male      0.070048\n",
              "Name: death, dtype: float64"
            ]
          },
          "metadata": {
            "tags": []
          },
          "execution_count": 53
        }
      ]
    },
    {
      "cell_type": "code",
      "metadata": {
        "id": "RC6LhcXKGV6y",
        "colab_type": "code",
        "outputId": "631241ea-2d12-4fd8-bc53-1b8b86208e02",
        "colab": {
          "base_uri": "https://localhost:8080/",
          "height": 415
        }
      },
      "source": [
        "plotbar(gender_dratio,gender_dratio.index,'Death ratio per Gender (%)')"
      ],
      "execution_count": 0,
      "outputs": [
        {
          "output_type": "display_data",
          "data": {
            "image/png": "[encoded data removed]",
            "text/plain": [
              "<Figure size 1152x432 with 1 Axes>"
            ]
          },
          "metadata": {
            "tags": []
          }
        }
      ]
    },
    {
      "cell_type": "markdown",
      "metadata": {
        "id": "CDeDQUq0G00z",
        "colab_type": "text"
      },
      "source": [
        "# 3. Symptom"
      ]
    },
    {
      "cell_type": "code",
      "metadata": {
        "id": "a9sv1D9moRk4",
        "colab_type": "code",
        "outputId": "e3f45b08-94e1-45c8-a012-a67502072c8b",
        "colab": {
          "base_uri": "https://localhost:8080/",
          "height": 482
        }
      },
      "source": [
        "symptomList = odat[odat['symptom'].str.len()>2]\n",
        "symptomList = symptomList['symptom'].values\n",
        "symDic = {}\n",
        "for s in symptomList:\n",
        "  sList = s.split(',')\n",
        "  for st in sList:\n",
        "    st = st.strip()\n",
        "    try:\n",
        "      symDic[st] = symDic[st] + 1\n",
        "    except:\n",
        "      symDic[st] = 1\n",
        "symFrame = pd.DataFrame()\n",
        "symFrame['symptom'] = symDic.keys()\n",
        "symFrame['count'] = symDic.values()\n",
        "symFrame = symFrame.sort_values(by='count',ascending=False)\n",
        "symFrame = symFrame.iloc[0:20]\n",
        "symFrame['ncount'] = (symFrame['count']/len(symptomList))*100\n",
        "plotbar(symFrame['ncount'],symFrame['symptom'],'Percentage of symptom confirmed cases (%)')"
      ],
      "execution_count": 0,
      "outputs": [
        {
          "output_type": "display_data",
          "data": {
            "image/png": "[encoded data removed]",
            "text/plain": [
              "<Figure size 1152x432 with 1 Axes>"
            ]
          },
          "metadata": {
            "tags": []
          }
        }
      ]
    }
  ]
}